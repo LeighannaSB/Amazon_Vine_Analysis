{
  "cells": [
    {
      "cell_type": "code",
      "execution_count": 1,
      "metadata": {
        "colab": {
          "base_uri": "https://localhost:8080/"
        },
        "id": "G8OKfmQeyd01",
        "outputId": "350b2052-f1f3-4ce3-c785-68ee24c78513"
      },
      "outputs": [
        {
          "name": "stdout",
          "output_type": "stream",
          "text": [
            "\r0% [Working]\r            \rGet:1 https://cloud.r-project.org/bin/linux/ubuntu bionic-cran40/ InRelease [3,626 B]\n",
            "\r0% [Connecting to archive.ubuntu.com] [Connecting to security.ubuntu.com (185.1\r0% [Connecting to archive.ubuntu.com] [Connecting to security.ubuntu.com (185.1\r                                                                               \rIgn:2 https://developer.download.nvidia.com/compute/machine-learning/repos/ubuntu1804/x86_64  InRelease\n",
            "\r0% [Connecting to archive.ubuntu.com] [Connecting to security.ubuntu.com (185.1\r0% [1 InRelease gpgv 3,626 B] [Connecting to archive.ubuntu.com] [Connecting to\r                                                                               \rGet:3 https://developer.download.nvidia.com/compute/cuda/repos/ubuntu1804/x86_64  InRelease [1,581 B]\n",
            "Hit:4 https://developer.download.nvidia.com/compute/machine-learning/repos/ubuntu1804/x86_64  Release\n",
            "Get:5 http://security.ubuntu.com/ubuntu bionic-security InRelease [88.7 kB]\n",
            "Hit:6 http://archive.ubuntu.com/ubuntu bionic InRelease\n",
            "Hit:7 http://ppa.launchpad.net/c2d4u.team/c2d4u4.0+/ubuntu bionic InRelease\n",
            "Get:8 https://developer.download.nvidia.com/compute/cuda/repos/ubuntu1804/x86_64  Packages [913 kB]\n",
            "Get:9 http://archive.ubuntu.com/ubuntu bionic-updates InRelease [88.7 kB]\n",
            "Hit:10 http://ppa.launchpad.net/cran/libgit2/ubuntu bionic InRelease\n",
            "Hit:12 http://ppa.launchpad.net/deadsnakes/ppa/ubuntu bionic InRelease\n",
            "Get:13 http://archive.ubuntu.com/ubuntu bionic-backports InRelease [83.3 kB]\n",
            "Get:14 http://ppa.launchpad.net/graphics-drivers/ppa/ubuntu bionic InRelease [21.3 kB]\n",
            "Get:15 http://security.ubuntu.com/ubuntu bionic-security/universe amd64 Packages [1,546 kB]\n",
            "Get:16 http://archive.ubuntu.com/ubuntu bionic-updates/universe amd64 Packages [2,323 kB]\n",
            "Get:17 http://security.ubuntu.com/ubuntu bionic-security/main amd64 Packages [2,990 kB]\n",
            "Get:18 http://archive.ubuntu.com/ubuntu bionic-updates/main amd64 Packages [3,422 kB]\n",
            "Get:19 http://ppa.launchpad.net/graphics-drivers/ppa/ubuntu bionic/main amd64 Packages [48.3 kB]\n",
            "Fetched 11.5 MB in 4s (2,675 kB/s)\n",
            "Reading package lists... Done\n"
          ]
        }
      ],
      "source": [
        "import os\n",
        "# Find the latest version of spark 3.0  from http://www.apache.org/dist/spark/ and enter as the spark version\n",
        "# For example:\n",
        "# spark_version = 'spark-3.3.0'\n",
        "spark_version = 'spark-3.3.0'\n",
        "os.environ['SPARK_VERSION']=spark_version\n",
        "\n",
        "# Install Spark and Java\n",
        "!apt-get update\n",
        "!apt-get install openjdk-11-jdk-headless -qq > /dev/null\n",
        "!wget -q http://www.apache.org/dist/spark/$SPARK_VERSION/$SPARK_VERSION-bin-hadoop3.tgz\n",
        "!tar xf $SPARK_VERSION-bin-hadoop3.tgz\n",
        "!pip install -q findspark\n",
        "\n",
        "# Set Environment Variables\n",
        "os.environ[\"JAVA_HOME\"] = \"/usr/lib/jvm/java-11-openjdk-amd64\"\n",
        "os.environ[\"SPARK_HOME\"] = f\"/content/{spark_version}-bin-hadoop3\"\n",
        "\n",
        "# Start a SparkSession\n",
        "import findspark\n",
        "findspark.init()"
      ]
    },
    {
      "cell_type": "code",
      "execution_count": 2,
      "metadata": {
        "id": "shq6PfCuyxbU"
      },
      "outputs": [],
      "source": [
        "from pyspark.sql import SparkSession\n",
        "spark = SparkSession.builder.appName(\"M16-Amazon-Vine-Challenge\").config(\"spark.driver.extraClassPath\",\"/content/postgresql-42.2.16.jar\").getOrCreate()"
      ]
    },
    {
      "cell_type": "code",
      "execution_count": 3,
      "metadata": {
        "colab": {
          "base_uri": "https://localhost:8080/"
        },
        "id": "taSRSkpIy_Jc",
        "outputId": "27e16009-98ee-416f-a33e-54def571f07f"
      },
      "outputs": [
        {
          "name": "stdout",
          "output_type": "stream",
          "text": [
            "+-----------+-----------+--------------+----------+--------------+--------------------+----------------+-----------+-------------+-----------+----+-----------------+--------------------+--------------------+-------------------+\n",
            "|marketplace|customer_id|     review_id|product_id|product_parent|       product_title|product_category|star_rating|helpful_votes|total_votes|vine|verified_purchase|     review_headline|         review_body|        review_date|\n",
            "+-----------+-----------+--------------+----------+--------------+--------------------+----------------+-----------+-------------+-----------+----+-----------------+--------------------+--------------------+-------------------+\n",
            "|         US|   18446823|R35T75OLUGHL5C|B000NV6H94|     110804376|Stearns Youth Boa...|        Outdoors|          4|            0|          0|   N|                Y|          Four Stars|          GOOD VALUE|2015-08-31 00:00:00|\n",
            "|         US|   13724367|R2BV735O46BN33|B000IN0W3Y|     624096774|Primal Wear Men's...|        Outdoors|          5|            0|          0|   N|                Y|          Five Stars|  Excellent quality.|2015-08-31 00:00:00|\n",
            "|         US|   51001958|R2NBEUGPQQGXP1|B008RBJXFM|     278970944|Osprey Hydraulics...|        Outdoors|          4|            0|          0|   N|                Y|Only Flaw Is The Cap|3rd season using ...|2015-08-31 00:00:00|\n",
            "|         US|   32866903|R17LLAOJ8ITK0S|B00FK8WUQY|     312877650|CamelBak eddy .75...|        Outdoors|          3|            1|          1|   N|                Y|Poor design leads...|poor construction...|2015-08-31 00:00:00|\n",
            "|         US|   30907790|R39PEQBT5ISEF4|B00EZA3VW0|     305567912|Children Black Re...|        Outdoors|          1|            0|          0|   N|                Y|Very bad quality,...|Very bad quality,...|2015-08-31 00:00:00|\n",
            "|         US|   20232229|R3GNM3SU9VHJFT|B006JA8WEG|     842306035|Ibera Bicycle Tri...|        Outdoors|          4|            1|          1|   N|                Y|Nice bag. Should ...|Nice bag. Should ...|2015-08-31 00:00:00|\n",
            "|         US|   17698862| R2Y81OP0EK467|B002PWFSEO|     451480122|Therm-a-Rest Comp...|        Outdoors|          5|            0|          0|   N|                Y|Very comfortable ...|Gave this to my s...|2015-08-31 00:00:00|\n",
            "|         US|   38486114|R2LFGSI6HAYH5F|B002DZGKHW|     124386306|Sawyer Products P...|        Outdoors|          5|            1|          1|   N|                Y| Worked like a charm|Went on vacation ...|2015-08-31 00:00:00|\n",
            "|         US|   26319572|R297G6ED1IQO7W|B00ABA08F6|     991442421|Zippo Hand Warmer...|        Outdoors|          5|            1|          1|   N|                Y|Great item. Gets ...|Great item. Gets ...|2015-08-31 00:00:00|\n",
            "|         US|   27152337| RE27RFC6101N6|B003Z8WIHC|     886483892|Camp Chef Dutch O...|        Outdoors|          5|            0|          0|   N|                Y|Great value for t...|I am so glad I bo...|2015-08-31 00:00:00|\n",
            "|         US|   12516845|R3BPDME6E94W8Z|B007CP6UK0|     150224054|3CERA Portable Wi...|        Outdoors|          5|            0|          0|   N|                Y|          Five Stars|        good to have|2015-08-31 00:00:00|\n",
            "|         US|    3225242|R2P08O1RILUOX3|B003V3U9JK|     343847969|Texsport King Kot...|        Outdoors|          3|            0|          0|   N|                Y|Cot set up inconv...|VERY difficult to...|2015-08-31 00:00:00|\n",
            "|         US|     961839|R37CVAB03PTDVI|B00Y846HN8|     858088629|Wallygadgets 2 Wh...|        Outdoors|          5|            0|          1|   N|                Y|          Five Stars|Thanks excellent ...|2015-08-31 00:00:00|\n",
            "|         US|   47796452| RAWNWOGXPCPMD|B00IYQ84VY|     474493517|RainStoppers 34-I...|        Outdoors|          5|            0|          0|   N|                Y|          Five Stars|This umbrella is ...|2015-08-31 00:00:00|\n",
            "|         US|   32004835| R5DYGP6ASX77M|B002MYCKLY|     920014456|Alpha Deluxe Port...|        Outdoors|          5|            0|          0|   N|                Y|          Five Stars|Love it !! I even...|2015-08-31 00:00:00|\n",
            "|         US|   23972939|R1O0SAOOGF2KG7|B00EZV69JG|     128489321|Speedfil Z4 BTA B...|        Outdoors|          4|            0|          0|   N|                Y|        Good enough.|This is a fine mo...|2015-08-31 00:00:00|\n",
            "|         US|   40889047|R35NJUT0U3MU3V|B00AWOT3T8|     571303876|O'Brien Kids Plat...|        Outdoors|          5|            0|          0|   N|                Y| Got Up on First Try|We just bought th...|2015-08-31 00:00:00|\n",
            "|         US|   11244387|R242C08MF9D1AH|B0000AXTID|     739769424|Kwik-Tek F-5R Pla...|        Outdoors|          5|            0|          0|   N|                Y|They go over an a...|I have these on m...|2015-08-31 00:00:00|\n",
            "|         US|   20121211| R3RYG8TJTO4E2|B00IFHFJXI|     984009972|Ivation Portable ...|        Outdoors|          5|            0|          0|   N|                Y|Greatest Item I b...|This is the best ...|2015-08-31 00:00:00|\n",
            "|         US|   25657249|R3IKH1DNY0CP9F|B00KFILTWU|     405521681|GreenInsync Repla...|        Outdoors|          2|            0|          0|   N|                Y|I received this p...|I received this p...|2015-08-31 00:00:00|\n",
            "+-----------+-----------+--------------+----------+--------------+--------------------+----------------+-----------+-------------+-----------+----+-----------------+--------------------+--------------------+-------------------+\n",
            "only showing top 20 rows\n",
            "\n"
          ]
        }
      ],
      "source": [
        "from pyspark import SparkFiles\n",
        "url = \"https://s3.amazonaws.com/amazon-reviews-pds/tsv/amazon_reviews_us_Outdoors_v1_00.tsv.gz\"\n",
        "spark.sparkContext.addFile(url)\n",
        "df = spark.read.option(\"encoding\", \"UTF-8\").csv(SparkFiles.get(\"\"), sep=\"\\t\", header=True, inferSchema=True)\n",
        "df.show()"
      ]
    },
    {
      "cell_type": "code",
      "execution_count": 4,
      "metadata": {
        "colab": {
          "base_uri": "https://localhost:8080/"
        },
        "id": "owSWO7APzRCb",
        "outputId": "3764371d-6023-4e7b-870b-627110a8203f"
      },
      "outputs": [
        {
          "name": "stdout",
          "output_type": "stream",
          "text": [
            "+--------------+-----------+-------------+-----------+----+-----------------+\n",
            "|     review_id|star_rating|helpful_votes|total_votes|vine|verified_purchase|\n",
            "+--------------+-----------+-------------+-----------+----+-----------------+\n",
            "|R35T75OLUGHL5C|          4|            0|          0|   N|                Y|\n",
            "|R2BV735O46BN33|          5|            0|          0|   N|                Y|\n",
            "|R2NBEUGPQQGXP1|          4|            0|          0|   N|                Y|\n",
            "|R17LLAOJ8ITK0S|          3|            1|          1|   N|                Y|\n",
            "|R39PEQBT5ISEF4|          1|            0|          0|   N|                Y|\n",
            "|R3GNM3SU9VHJFT|          4|            1|          1|   N|                Y|\n",
            "| R2Y81OP0EK467|          5|            0|          0|   N|                Y|\n",
            "|R2LFGSI6HAYH5F|          5|            1|          1|   N|                Y|\n",
            "|R297G6ED1IQO7W|          5|            1|          1|   N|                Y|\n",
            "| RE27RFC6101N6|          5|            0|          0|   N|                Y|\n",
            "|R3BPDME6E94W8Z|          5|            0|          0|   N|                Y|\n",
            "|R2P08O1RILUOX3|          3|            0|          0|   N|                Y|\n",
            "|R37CVAB03PTDVI|          5|            0|          1|   N|                Y|\n",
            "| RAWNWOGXPCPMD|          5|            0|          0|   N|                Y|\n",
            "| R5DYGP6ASX77M|          5|            0|          0|   N|                Y|\n",
            "|R1O0SAOOGF2KG7|          4|            0|          0|   N|                Y|\n",
            "|R35NJUT0U3MU3V|          5|            0|          0|   N|                Y|\n",
            "|R242C08MF9D1AH|          5|            0|          0|   N|                Y|\n",
            "| R3RYG8TJTO4E2|          5|            0|          0|   N|                Y|\n",
            "|R3IKH1DNY0CP9F|          2|            0|          0|   N|                Y|\n",
            "+--------------+-----------+-------------+-----------+----+-----------------+\n",
            "only showing top 20 rows\n",
            "\n"
          ]
        }
      ],
      "source": [
        "# Create the vine_table. DataFrame\n",
        "vine_df = df.select([\"review_id\", \"star_rating\", \"helpful_votes\", \"total_votes\", \"vine\", \"verified_purchase\"])\n",
        "\n",
        "vine_df.show()"
      ]
    },
    {
      "cell_type": "code",
      "execution_count": 6,
      "metadata": {
        "colab": {
          "base_uri": "https://localhost:8080/"
        },
        "id": "thLbii7rziQg",
        "outputId": "6ff8ad1e-3346-4b46-ff11-804415ae8ddd"
      },
      "outputs": [
        {
          "name": "stdout",
          "output_type": "stream",
          "text": [
            "+-----------+-----------+--------------+----------+--------------+--------------------+----------------+-----------+-------------+-----------+----+-----------------+--------------------+--------------------+-------------------+\n",
            "|marketplace|customer_id|     review_id|product_id|product_parent|       product_title|product_category|star_rating|helpful_votes|total_votes|vine|verified_purchase|     review_headline|         review_body|        review_date|\n",
            "+-----------+-----------+--------------+----------+--------------+--------------------+----------------+-----------+-------------+-----------+----+-----------------+--------------------+--------------------+-------------------+\n",
            "|         US|   30222858|R2FP3U4NHNFNL2|B00YPISPNC|     468413405|Stanley Classic V...|        Outdoors|          5|           25|         29|   N|                Y|GREAT GROWLER! NO...|This item is awes...|2015-08-31 00:00:00|\n",
            "|         US|   35677754|R1UUK1977O38MU|B00T8NEI3A|      32341693|Camping Wood Burn...|        Outdoors|          5|           31|         31|   N|                Y|    Dinner is served|worked great, lov...|2015-08-31 00:00:00|\n",
            "|         US|   45781324| RXO216LWUDV6O|B00FLTZ2ZS|     361297724|DNM Mountain Bike...|        Outdoors|          3|           29|         31|   N|                Y|         Air leak :(|I just got this a...|2015-08-31 00:00:00|\n",
            "|         US|   16699467|R3NMJF7EBMM19V|B007SZ4XJ4|     188745514|VeloChampion MLT1...|        Outdoors|          3|           26|         27|   N|                Y|Good quality, act...|The only reason I...|2015-08-31 00:00:00|\n",
            "|         US|   16299390|R2ZY0ZBDUO0XUY|B00NAINBM8|     754535833|Earthtrekgear Fol...|        Outdoors|          3|           20|         21|   N|                Y|Short and (almost...|It is almost impo...|2015-08-31 00:00:00|\n",
            "|         US|   30196513| RBDVHX7PMQEKM|B00OAUPSSA|     877639199|Insta-Bed Raised ...|        Outdoors|          5|           35|         39|   N|                Y|   Nice air mattress|Nice air mattress...|2015-08-31 00:00:00|\n",
            "|         US|   13750464| RGO3KSDXYWTGU|B00V65XX0C|     379510044|OuterEQ 0.8L Outd...|        Outdoors|          4|           26|         26|   N|                Y|      Almost perfect|This is a nice li...|2015-08-31 00:00:00|\n",
            "|         US|    6930362|R2O4P39D0ALCQK|B00NPLSZF8|     968147881|Ultra Bright LED ...|        Outdoors|          2|           14|         43|   N|                Y|You may be better...|After seeing this...|2015-08-31 00:00:00|\n",
            "|         US|   14428825|R1E1PQGHWGO3Q1|B007ZYIFQ0|     184431888|Igloo Iceless The...|        Outdoors|          1|           89|         96|   N|                Y|        Doesn't work|Cord melted the f...|2015-08-31 00:00:00|\n",
            "|         US|   42845702|R1XOXXUVYZEDJB|B0087NHUWS|     740768441|     Ribz Front Pack|        Outdoors|          5|           22|         22|   N|                Y|Nice compliment t...|Nicely compliment...|2015-08-31 00:00:00|\n",
            "|         US|   13557708| R7SHITUU5UG9U|B00NFCFNUM|     608702364|Kelty Salida 2 Pe...|        Outdoors|          5|           27|         27|   N|                Y|Worth it with lot...|I bought this ite...|2015-08-31 00:00:00|\n",
            "|         US|   15323553|R230TLHU91M5Y3|B010X5715I|     302429091|SYRINX High Quali...|        Outdoors|          4|           21|         21|   N|                Y|  Great little mount|Great little moun...|2015-08-31 00:00:00|\n",
            "|         US|   32928343| RHR5MKO23K9TU|B00CMAG6BI|     401191323|Camp Chef Italia ...|        Outdoors|          5|           26|         30|   N|                Y|Well worth the pr...|I have been tryin...|2015-08-31 00:00:00|\n",
            "|         US|    3046458|R1HGK3TCY161D7|B011OLKB3O|     653374459|Stanley Adventure...|        Outdoors|          5|           52|         55|   N|                N|Great for chunky ...|I got this thermo...|2015-08-31 00:00:00|\n",
            "|         US|   51111929|R340QYAVNZZHJA|B005LURMSW|     340426618|Mountainsmith Con...|        Outdoors|          4|           25|         25|   N|                N|Spacious Tent, Hi...|My wife and I sea...|2015-08-31 00:00:00|\n",
            "|         US|     923391|R2F1UVQK0JL4QH|B00AHSRM1A|      15004904|Raider Ultralight...|        Outdoors|          3|           20|         20|   N|                Y|Compact- Seems we...|The &#34;Guy Line...|2015-08-31 00:00:00|\n",
            "|         US|   43108390|R1N21UY546VWMN|B00DZLVDAC|     212774904|ExOfficio Men's G...|        Outdoors|          2|           48|         50|   N|                Y|These fit great, ...|These fit great, ...|2015-08-31 00:00:00|\n",
            "|         US|   13629614|R1E4L344EK0ZOT|B012BRMTHG|     283537352|Cal 7 22 Inch Com...|        Outdoors|          5|           20|         26|   N|                N|This was a perfec...|This was a perfec...|2015-08-31 00:00:00|\n",
            "|         US|   35439949|R282QUZDDJW3ON|B000NVBH8A|     136509543|Stearns Adult Cla...|        Outdoors|          4|           45|         49|   N|                Y|Universal for all...|Get universal unl...|2015-08-31 00:00:00|\n",
            "|         US|   13260359|R3H5T3T7QY3ZL2|B00Y846HN8|     858088629|Wallygadgets 2 Wh...|        Outdoors|          5|          247|        263|   N|                Y|BEWARE OF THE SCA...|first off let me ...|2015-08-31 00:00:00|\n",
            "+-----------+-----------+--------------+----------+--------------+--------------------+----------------+-----------+-------------+-----------+----+-----------------+--------------------+--------------------+-------------------+\n",
            "only showing top 20 rows\n",
            "\n"
          ]
        }
      ],
      "source": [
        "new_vine_df = df.filter(df.total_votes >= 20)\n",
        "\n",
        "new_vine_df.show()"
      ]
    },
    {
      "cell_type": "code",
      "execution_count": 7,
      "metadata": {
        "colab": {
          "base_uri": "https://localhost:8080/"
        },
        "id": "qdM6SROa09Lv",
        "outputId": "814b78f7-712f-4c81-eefc-90938f260b8a"
      },
      "outputs": [
        {
          "name": "stdout",
          "output_type": "stream",
          "text": [
            "+-----------+-----------+--------------+----------+--------------+--------------------+----------------+-----------+-------------+-----------+----+-----------------+--------------------+--------------------+-------------------+\n",
            "|marketplace|customer_id|     review_id|product_id|product_parent|       product_title|product_category|star_rating|helpful_votes|total_votes|vine|verified_purchase|     review_headline|         review_body|        review_date|\n",
            "+-----------+-----------+--------------+----------+--------------+--------------------+----------------+-----------+-------------+-----------+----+-----------------+--------------------+--------------------+-------------------+\n",
            "|         US|   30222858|R2FP3U4NHNFNL2|B00YPISPNC|     468413405|Stanley Classic V...|        Outdoors|          5|           25|         29|   N|                Y|GREAT GROWLER! NO...|This item is awes...|2015-08-31 00:00:00|\n",
            "|         US|   35677754|R1UUK1977O38MU|B00T8NEI3A|      32341693|Camping Wood Burn...|        Outdoors|          5|           31|         31|   N|                Y|    Dinner is served|worked great, lov...|2015-08-31 00:00:00|\n",
            "|         US|   45781324| RXO216LWUDV6O|B00FLTZ2ZS|     361297724|DNM Mountain Bike...|        Outdoors|          3|           29|         31|   N|                Y|         Air leak :(|I just got this a...|2015-08-31 00:00:00|\n",
            "|         US|   16699467|R3NMJF7EBMM19V|B007SZ4XJ4|     188745514|VeloChampion MLT1...|        Outdoors|          3|           26|         27|   N|                Y|Good quality, act...|The only reason I...|2015-08-31 00:00:00|\n",
            "|         US|   16299390|R2ZY0ZBDUO0XUY|B00NAINBM8|     754535833|Earthtrekgear Fol...|        Outdoors|          3|           20|         21|   N|                Y|Short and (almost...|It is almost impo...|2015-08-31 00:00:00|\n",
            "|         US|   30196513| RBDVHX7PMQEKM|B00OAUPSSA|     877639199|Insta-Bed Raised ...|        Outdoors|          5|           35|         39|   N|                Y|   Nice air mattress|Nice air mattress...|2015-08-31 00:00:00|\n",
            "|         US|   13750464| RGO3KSDXYWTGU|B00V65XX0C|     379510044|OuterEQ 0.8L Outd...|        Outdoors|          4|           26|         26|   N|                Y|      Almost perfect|This is a nice li...|2015-08-31 00:00:00|\n",
            "|         US|   14428825|R1E1PQGHWGO3Q1|B007ZYIFQ0|     184431888|Igloo Iceless The...|        Outdoors|          1|           89|         96|   N|                Y|        Doesn't work|Cord melted the f...|2015-08-31 00:00:00|\n",
            "|         US|   42845702|R1XOXXUVYZEDJB|B0087NHUWS|     740768441|     Ribz Front Pack|        Outdoors|          5|           22|         22|   N|                Y|Nice compliment t...|Nicely compliment...|2015-08-31 00:00:00|\n",
            "|         US|   13557708| R7SHITUU5UG9U|B00NFCFNUM|     608702364|Kelty Salida 2 Pe...|        Outdoors|          5|           27|         27|   N|                Y|Worth it with lot...|I bought this ite...|2015-08-31 00:00:00|\n",
            "|         US|   15323553|R230TLHU91M5Y3|B010X5715I|     302429091|SYRINX High Quali...|        Outdoors|          4|           21|         21|   N|                Y|  Great little mount|Great little moun...|2015-08-31 00:00:00|\n",
            "|         US|   32928343| RHR5MKO23K9TU|B00CMAG6BI|     401191323|Camp Chef Italia ...|        Outdoors|          5|           26|         30|   N|                Y|Well worth the pr...|I have been tryin...|2015-08-31 00:00:00|\n",
            "|         US|    3046458|R1HGK3TCY161D7|B011OLKB3O|     653374459|Stanley Adventure...|        Outdoors|          5|           52|         55|   N|                N|Great for chunky ...|I got this thermo...|2015-08-31 00:00:00|\n",
            "|         US|   51111929|R340QYAVNZZHJA|B005LURMSW|     340426618|Mountainsmith Con...|        Outdoors|          4|           25|         25|   N|                N|Spacious Tent, Hi...|My wife and I sea...|2015-08-31 00:00:00|\n",
            "|         US|     923391|R2F1UVQK0JL4QH|B00AHSRM1A|      15004904|Raider Ultralight...|        Outdoors|          3|           20|         20|   N|                Y|Compact- Seems we...|The &#34;Guy Line...|2015-08-31 00:00:00|\n",
            "|         US|   43108390|R1N21UY546VWMN|B00DZLVDAC|     212774904|ExOfficio Men's G...|        Outdoors|          2|           48|         50|   N|                Y|These fit great, ...|These fit great, ...|2015-08-31 00:00:00|\n",
            "|         US|   13629614|R1E4L344EK0ZOT|B012BRMTHG|     283537352|Cal 7 22 Inch Com...|        Outdoors|          5|           20|         26|   N|                N|This was a perfec...|This was a perfec...|2015-08-31 00:00:00|\n",
            "|         US|   35439949|R282QUZDDJW3ON|B000NVBH8A|     136509543|Stearns Adult Cla...|        Outdoors|          4|           45|         49|   N|                Y|Universal for all...|Get universal unl...|2015-08-31 00:00:00|\n",
            "|         US|   13260359|R3H5T3T7QY3ZL2|B00Y846HN8|     858088629|Wallygadgets 2 Wh...|        Outdoors|          5|          247|        263|   N|                Y|BEWARE OF THE SCA...|first off let me ...|2015-08-31 00:00:00|\n",
            "|         US|   48844345|R3W1A1P95IIGHX|B00Z8V5OV6|      37436668|Ezisoul Large 32o...|        Outdoors|          5|           23|         25|   N|                N|This one is HANDS...|I have a few wate...|2015-08-31 00:00:00|\n",
            "+-----------+-----------+--------------+----------+--------------+--------------------+----------------+-----------+-------------+-----------+----+-----------------+--------------------+--------------------+-------------------+\n",
            "only showing top 20 rows\n",
            "\n"
          ]
        }
      ],
      "source": [
        "new2_vine_df = new_vine_df.filter((new_vine_df.helpful_votes / new_vine_df.total_votes) >= 0.5)\n",
        "\n",
        "new2_vine_df.show()"
      ]
    },
    {
      "cell_type": "code",
      "execution_count": 9,
      "metadata": {
        "colab": {
          "base_uri": "https://localhost:8080/"
        },
        "id": "H93AYDY_1czX",
        "outputId": "76a5a326-97d2-4345-8f7f-0c4ba96d0e12"
      },
      "outputs": [
        {
          "name": "stdout",
          "output_type": "stream",
          "text": [
            "+-----------+-----------+--------------+----------+--------------+--------------------+----------------+-----------+-------------+-----------+----+-----------------+--------------------+--------------------+-------------------+\n",
            "|marketplace|customer_id|     review_id|product_id|product_parent|       product_title|product_category|star_rating|helpful_votes|total_votes|vine|verified_purchase|     review_headline|         review_body|        review_date|\n",
            "+-----------+-----------+--------------+----------+--------------+--------------------+----------------+-----------+-------------+-----------+----+-----------------+--------------------+--------------------+-------------------+\n",
            "|         US|   43335941|R3KPC0NBUDASX3|B00R8KC02Q|     872035750|Thule EnRoute Tri...|        Outdoors|          5|           25|         25|   Y|                N|Love the Thule ba...|THULE:<br /><br /...|2015-08-24 00:00:00|\n",
            "|         US|   36470546|R119P2A95GGXX4|B00NOYKVSK|     165748383|Wenzel Temp Contr...|        Outdoors|          5|           26|         28|   Y|                N|Very Comfy--Here'...|This sleeping bag...|2015-07-09 00:00:00|\n",
            "|         US|   50794278|R1HKIRME8AJ89Z|B00GK4LUXQ|     737005436|Klymit Inertia O ...|        Outdoors|          5|           79|         82|   Y|                N|A sleeping pad li...|[[VIDEOID:4513a9b...|2015-07-04 00:00:00|\n",
            "|         US|   44173076|R3FY3GMBGOBR22|B00NFCFDRA|     585483297|Kelty Dualist 6 D...|        Outdoors|          5|           12|         20|   Y|                N|The Cadillac of s...|This Kelty Sleepi...|2015-06-16 00:00:00|\n",
            "|         US|   43856165|R15KH3FBSVYGBU|B00NFCFIR0|     167877886|Kelty Tuck 22 Deg...|        Outdoors|          5|           32|         37|   Y|                N|Compared to Kelty...|I own both the [[...|2015-06-14 00:00:00|\n",
            "|         US|   25821331|R22XZEQLVLWW49|B00NFCFAYQ|     771093954|Cosmic Down 20 De...|        Outdoors|          5|           28|         33|   Y|                N|A really great sl...|Wow!  Having just...|2015-06-11 00:00:00|\n",
            "|         US|   11556116|R2OIQYVAL9D63R|B00NFCFIR0|     167877886|Kelty Tuck 22 Deg...|        Outdoors|          4|           59|         65|   Y|                N|Like the Foot fea...|I already own thr...|2015-06-09 00:00:00|\n",
            "|         US|   11556116|R1W3KCDHM6BMZT|B00G6KURDI|     463959079|Kelty TN 2 Person...|        Outdoors|          4|           37|         38|   Y|                N|Light weight, roo...|I like the rolled...|2015-06-05 00:00:00|\n",
            "|         US|   18267561|R3KDMPS96IJ10R|B00R8K9VZA|     306686399|Thule RideAlong M...|        Outdoors|          2|           15|         21|   Y|                N|Awkward, unstable...|Despite the slick...|2015-05-10 00:00:00|\n",
            "|         US|   13722260|R1XWEI58A7VKLB|B00R6SBMPG|     141037234|Thule Vertex XT H...|        Outdoors|          5|          123|        128|   Y|                N|The best hitch ra...|First off, this t...|2015-05-08 00:00:00|\n",
            "|         US|   50599697|R1CJWM6CMWKSA1|B00M542ILI|     410973207|Thule Raceway Pro...|        Outdoors|          4|           31|         33|   Y|                N|Recommended. Grea...|From an owner and...|2015-05-05 00:00:00|\n",
            "|         US|   41604883|R39I3FUDBKZM3Y|B00R6SBMPG|     141037234|Thule Vertex XT H...|        Outdoors|          5|           34|         38|   Y|                N|  Solid in every way|Best bike carrier...|2015-05-01 00:00:00|\n",
            "|         US|   51250504|R32LU0KSL7QWSF|B00R6SBML0|     485306161|Thule Vertex Swin...|        Outdoors|          5|           35|         37|   Y|                N|Excellent - Swing...|This is a wonderf...|2015-05-01 00:00:00|\n",
            "|         US|   31302915|R2LGDXO3MG2WQW|B00U4HDLGO|     706335403|Thule Urban Glide...|        Outdoors|          5|           37|         41|   Y|                N|Thule Glide 2 for...|We might have a n...|2015-04-19 00:00:00|\n",
            "|         US|   44341716|R16AVI2NTYWLKI|B00R8K9VZA|     306686399|Thule RideAlong M...|        Outdoors|          5|           31|         33|   Y|                N|Great way to ride...|We have 3 childre...|2015-04-03 00:00:00|\n",
            "|         US|   45351550|R12K0ITIV6AYM3|B00FZLIK1U|     156536278|Thule Cadence Chi...|        Outdoors|          5|           34|         34|   Y|                N|Excellent dedicat...|Above the fold re...|2015-03-24 00:00:00|\n",
            "|         US|   45351550| R9ILZLNNK93CO|B00FOUMCD4|     129685188|Thule Coaster2+ B...|        Outdoors|          5|           38|         39|   Y|                N|More dialed in to...|In 2011 Thule dec...|2015-03-23 00:00:00|\n",
            "|         US|   45351550|R1CS8VSI1KSR1P|B00KNTHH2C|     347242708|Thule Glide - Per...|        Outdoors|          5|           21|         22|   Y|                N|Glide or Urban Gl...|Above the fold ve...|2015-03-23 00:00:00|\n",
            "|         US|   11556116|R186TCIH8TEGPY|B00SISWNZG|     959754939|Mountain House Sc...|        Outdoors|          5|           40|         43|   Y|                N|Mountain house br...|I just love these...|2015-03-04 00:00:00|\n",
            "|         US|   52532594| R3GBQRR2GY4SP|B00SISWXVK|     994639471|Mountain House Br...|        Outdoors|          4|          119|        125|   Y|                N|A postitive exper...|I have NEVER had ...|2015-02-27 00:00:00|\n",
            "+-----------+-----------+--------------+----------+--------------+--------------------+----------------+-----------+-------------+-----------+----+-----------------+--------------------+--------------------+-------------------+\n",
            "only showing top 20 rows\n",
            "\n"
          ]
        }
      ],
      "source": [
        "paid_vine_df = new2_vine_df.filter(new2_vine_df.vine == 'Y')\n",
        "\n",
        "paid_vine_df.show()"
      ]
    },
    {
      "cell_type": "code",
      "execution_count": 10,
      "metadata": {
        "colab": {
          "base_uri": "https://localhost:8080/"
        },
        "id": "6MPh0hLT14QJ",
        "outputId": "0c4bb2bb-720c-4b6d-80eb-1ceda07ca38b"
      },
      "outputs": [
        {
          "name": "stdout",
          "output_type": "stream",
          "text": [
            "+-----------+-----------+--------------+----------+--------------+--------------------+----------------+-----------+-------------+-----------+----+-----------------+--------------------+--------------------+-------------------+\n",
            "|marketplace|customer_id|     review_id|product_id|product_parent|       product_title|product_category|star_rating|helpful_votes|total_votes|vine|verified_purchase|     review_headline|         review_body|        review_date|\n",
            "+-----------+-----------+--------------+----------+--------------+--------------------+----------------+-----------+-------------+-----------+----+-----------------+--------------------+--------------------+-------------------+\n",
            "|         US|   30222858|R2FP3U4NHNFNL2|B00YPISPNC|     468413405|Stanley Classic V...|        Outdoors|          5|           25|         29|   N|                Y|GREAT GROWLER! NO...|This item is awes...|2015-08-31 00:00:00|\n",
            "|         US|   35677754|R1UUK1977O38MU|B00T8NEI3A|      32341693|Camping Wood Burn...|        Outdoors|          5|           31|         31|   N|                Y|    Dinner is served|worked great, lov...|2015-08-31 00:00:00|\n",
            "|         US|   45781324| RXO216LWUDV6O|B00FLTZ2ZS|     361297724|DNM Mountain Bike...|        Outdoors|          3|           29|         31|   N|                Y|         Air leak :(|I just got this a...|2015-08-31 00:00:00|\n",
            "|         US|   16699467|R3NMJF7EBMM19V|B007SZ4XJ4|     188745514|VeloChampion MLT1...|        Outdoors|          3|           26|         27|   N|                Y|Good quality, act...|The only reason I...|2015-08-31 00:00:00|\n",
            "|         US|   16299390|R2ZY0ZBDUO0XUY|B00NAINBM8|     754535833|Earthtrekgear Fol...|        Outdoors|          3|           20|         21|   N|                Y|Short and (almost...|It is almost impo...|2015-08-31 00:00:00|\n",
            "|         US|   30196513| RBDVHX7PMQEKM|B00OAUPSSA|     877639199|Insta-Bed Raised ...|        Outdoors|          5|           35|         39|   N|                Y|   Nice air mattress|Nice air mattress...|2015-08-31 00:00:00|\n",
            "|         US|   13750464| RGO3KSDXYWTGU|B00V65XX0C|     379510044|OuterEQ 0.8L Outd...|        Outdoors|          4|           26|         26|   N|                Y|      Almost perfect|This is a nice li...|2015-08-31 00:00:00|\n",
            "|         US|   14428825|R1E1PQGHWGO3Q1|B007ZYIFQ0|     184431888|Igloo Iceless The...|        Outdoors|          1|           89|         96|   N|                Y|        Doesn't work|Cord melted the f...|2015-08-31 00:00:00|\n",
            "|         US|   42845702|R1XOXXUVYZEDJB|B0087NHUWS|     740768441|     Ribz Front Pack|        Outdoors|          5|           22|         22|   N|                Y|Nice compliment t...|Nicely compliment...|2015-08-31 00:00:00|\n",
            "|         US|   13557708| R7SHITUU5UG9U|B00NFCFNUM|     608702364|Kelty Salida 2 Pe...|        Outdoors|          5|           27|         27|   N|                Y|Worth it with lot...|I bought this ite...|2015-08-31 00:00:00|\n",
            "|         US|   15323553|R230TLHU91M5Y3|B010X5715I|     302429091|SYRINX High Quali...|        Outdoors|          4|           21|         21|   N|                Y|  Great little mount|Great little moun...|2015-08-31 00:00:00|\n",
            "|         US|   32928343| RHR5MKO23K9TU|B00CMAG6BI|     401191323|Camp Chef Italia ...|        Outdoors|          5|           26|         30|   N|                Y|Well worth the pr...|I have been tryin...|2015-08-31 00:00:00|\n",
            "|         US|    3046458|R1HGK3TCY161D7|B011OLKB3O|     653374459|Stanley Adventure...|        Outdoors|          5|           52|         55|   N|                N|Great for chunky ...|I got this thermo...|2015-08-31 00:00:00|\n",
            "|         US|   51111929|R340QYAVNZZHJA|B005LURMSW|     340426618|Mountainsmith Con...|        Outdoors|          4|           25|         25|   N|                N|Spacious Tent, Hi...|My wife and I sea...|2015-08-31 00:00:00|\n",
            "|         US|     923391|R2F1UVQK0JL4QH|B00AHSRM1A|      15004904|Raider Ultralight...|        Outdoors|          3|           20|         20|   N|                Y|Compact- Seems we...|The &#34;Guy Line...|2015-08-31 00:00:00|\n",
            "|         US|   43108390|R1N21UY546VWMN|B00DZLVDAC|     212774904|ExOfficio Men's G...|        Outdoors|          2|           48|         50|   N|                Y|These fit great, ...|These fit great, ...|2015-08-31 00:00:00|\n",
            "|         US|   13629614|R1E4L344EK0ZOT|B012BRMTHG|     283537352|Cal 7 22 Inch Com...|        Outdoors|          5|           20|         26|   N|                N|This was a perfec...|This was a perfec...|2015-08-31 00:00:00|\n",
            "|         US|   35439949|R282QUZDDJW3ON|B000NVBH8A|     136509543|Stearns Adult Cla...|        Outdoors|          4|           45|         49|   N|                Y|Universal for all...|Get universal unl...|2015-08-31 00:00:00|\n",
            "|         US|   13260359|R3H5T3T7QY3ZL2|B00Y846HN8|     858088629|Wallygadgets 2 Wh...|        Outdoors|          5|          247|        263|   N|                Y|BEWARE OF THE SCA...|first off let me ...|2015-08-31 00:00:00|\n",
            "|         US|   48844345|R3W1A1P95IIGHX|B00Z8V5OV6|      37436668|Ezisoul Large 32o...|        Outdoors|          5|           23|         25|   N|                N|This one is HANDS...|I have a few wate...|2015-08-31 00:00:00|\n",
            "+-----------+-----------+--------------+----------+--------------+--------------------+----------------+-----------+-------------+-----------+----+-----------------+--------------------+--------------------+-------------------+\n",
            "only showing top 20 rows\n",
            "\n"
          ]
        }
      ],
      "source": [
        "unpaid_vine_df = new2_vine_df.filter(new2_vine_df.vine == 'N')\n",
        "\n",
        "unpaid_vine_df.show()"
      ]
    },
    {
      "cell_type": "code",
      "execution_count": 11,
      "metadata": {
        "colab": {
          "base_uri": "https://localhost:8080/"
        },
        "id": "eErFYcYX2S_Y",
        "outputId": "cb03ae97-21bb-4e6e-ee0c-529c5f283b8b"
      },
      "outputs": [
        {
          "data": {
            "text/plain": [
              "107"
            ]
          },
          "execution_count": 11,
          "metadata": {},
          "output_type": "execute_result"
        }
      ],
      "source": [
        "total_count_paid = paid_vine_df.count()\n",
        "\n",
        "total_count_paid"
      ]
    },
    {
      "cell_type": "code",
      "execution_count": 14,
      "metadata": {
        "colab": {
          "base_uri": "https://localhost:8080/"
        },
        "id": "V5OShDnx2031",
        "outputId": "191cff49-7b7f-457e-d811-1eb1ea08cae1"
      },
      "outputs": [
        {
          "data": {
            "text/plain": [
              "56"
            ]
          },
          "execution_count": 14,
          "metadata": {},
          "output_type": "execute_result"
        }
      ],
      "source": [
        "fivestar_count_paid = paid_vine_df.filter(paid_vine_df.star_rating == 5).count()\n",
        "\n",
        "fivestar_count_paid "
      ]
    },
    {
      "cell_type": "code",
      "execution_count": 15,
      "metadata": {
        "colab": {
          "base_uri": "https://localhost:8080/"
        },
        "id": "HbEHil6c3QFZ",
        "outputId": "4baa4389-3552-421e-c982-c182e35f035c"
      },
      "outputs": [
        {
          "data": {
            "text/plain": [
              "52.336448598130836"
            ]
          },
          "execution_count": 15,
          "metadata": {},
          "output_type": "execute_result"
        }
      ],
      "source": [
        "fivestar_paid_percent = (fivestar_count_paid / total_count_paid) * 100\n",
        "\n",
        "fivestar_paid_percent "
      ]
    },
    {
      "cell_type": "code",
      "execution_count": 13,
      "metadata": {
        "colab": {
          "base_uri": "https://localhost:8080/"
        },
        "id": "hqKlLtVy3QfU",
        "outputId": "a06820d0-e790-489c-d7df-cfc8a9c297d4"
      },
      "outputs": [
        {
          "data": {
            "text/plain": [
              "39869"
            ]
          },
          "execution_count": 13,
          "metadata": {},
          "output_type": "execute_result"
        }
      ],
      "source": [
        "total_count_unpaid = unpaid_vine_df.count()\n",
        "\n",
        "total_count_unpaid "
      ]
    },
    {
      "cell_type": "code",
      "execution_count": 16,
      "metadata": {
        "colab": {
          "base_uri": "https://localhost:8080/"
        },
        "id": "elq6DUYE3fz9",
        "outputId": "adb2c537-d3f1-410d-ccea-230f0c5c5ca1"
      },
      "outputs": [
        {
          "data": {
            "text/plain": [
              "21005"
            ]
          },
          "execution_count": 16,
          "metadata": {},
          "output_type": "execute_result"
        }
      ],
      "source": [
        "fivestar_count_unpaid = unpaid_vine_df.filter(unpaid_vine_df.star_rating == 5).count()\n",
        "\n",
        "fivestar_count_unpaid "
      ]
    },
    {
      "cell_type": "code",
      "execution_count": 18,
      "metadata": {
        "colab": {
          "base_uri": "https://localhost:8080/"
        },
        "id": "mlTblmek4Jk6",
        "outputId": "ea59b9d3-eaf9-44e0-d6b3-d82d485ac4b4"
      },
      "outputs": [
        {
          "data": {
            "text/plain": [
              "52.68504351751988"
            ]
          },
          "execution_count": 18,
          "metadata": {},
          "output_type": "execute_result"
        }
      ],
      "source": [
        "fivestar_unpaid_percent = (fivestar_count_unpaid / total_count_unpaid) * 100 \n",
        "\n",
        "fivestar_unpaid_percent "
      ]
    }
  ],
  "metadata": {
    "colab": {
      "collapsed_sections": [],
      "provenance": []
    },
    "kernelspec": {
      "display_name": "Python 3",
      "name": "python3"
    },
    "language_info": {
      "name": "python"
    }
  },
  "nbformat": 4,
  "nbformat_minor": 0
}
